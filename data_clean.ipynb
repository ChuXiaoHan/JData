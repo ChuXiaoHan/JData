{
 "cells": [
  {
   "cell_type": "code",
   "execution_count": 1,
   "metadata": {},
   "outputs": [],
   "source": [
    "import numpy as np\n",
    "import pandas as pd\n",
    "import datetime\n",
    "import pickle #pickle序列化对象并保存到磁盘中，并在需要的时候读取出来\n",
    "import os"
   ]
  },
  {
   "cell_type": "code",
   "execution_count": 2,
   "metadata": {},
   "outputs": [],
   "source": [
    "############读取所有的文件#########################\n",
    "def read_files():\n",
    "    #用户表\n",
    "    df_user = pd.read_csv(\"JData_User.csv\")\n",
    "    #商品表\n",
    "    df_product = pd.read_csv(\"JData_Product.csv\")\n",
    "    #评论表\n",
    "    df_comment = pd.read_csv(\"JData_Comment.csv\")\n",
    "    #行为表\n",
    "    df_action_1 = pd.read_csv(\"JData_Action_201602.csv\")\n",
    "    df_action_2 = pd.read_csv(\"JData_Action_201603.csv\")\n",
    "    df_action_3 = pd.read_csv(\"JData_Action_201604.csv\")\n",
    "    df_action = pd.concat([df_action_1, df_action_2, df_action_3], axis=0)\n",
    "        \n",
    "    return df_user, df_product, df_comment, df_action\n",
    "\n",
    "df_user, df_product, df_comment, df_action = read_files()"
   ]
  },
  {
   "cell_type": "code",
   "execution_count": 5,
   "metadata": {},
   "outputs": [
    {
     "name": "stdout",
     "output_type": "stream",
     "text": [
      "user_id                 int32\n",
      "age                     int32\n",
      "sex                     int32\n",
      "user_lv_cd              int32\n",
      "user_reg_tm    datetime64[ns]\n",
      "dtype: object\n",
      "   user_id  age  sex  user_lv_cd user_reg_tm\n",
      "0   200001    6   -1           5  2016-01-26\n",
      "1   200002   -1    0           1  2016-01-26\n",
      "2   200003    4    1           4  2016-01-26\n",
      "3   200004   -1   -1           1  2016-01-26\n",
      "4   200005    2    0           4  2016-01-26\n",
      "----------------\n",
      "sku_id    int32\n",
      "a1        int32\n",
      "a2        int32\n",
      "a3        int32\n",
      "cate      int32\n",
      "brand     int32\n",
      "dtype: object\n",
      "   sku_id  a1  a2  a3  cate  brand\n",
      "0      10   3   1   1     8    489\n",
      "1  100002   3   2   2     8    489\n",
      "2  100003   1  -1  -1     8     30\n",
      "3  100006   1   2   1     8    545\n",
      "4   10001  -1   1   2     8    244\n",
      "----------------\n",
      "dt                  datetime64[ns]\n",
      "sku_id                       int32\n",
      "comment_num                  int32\n",
      "has_bad_comment              int32\n",
      "bad_comment_rate           float32\n",
      "dtype: object\n",
      "          dt  sku_id  comment_num  has_bad_comment  bad_comment_rate\n",
      "0 2016-02-01    1000            3                1            0.0417\n",
      "1 2016-02-01   10000            2                0            0.0000\n",
      "2 2016-02-01  100011            4                1            0.0376\n",
      "3 2016-02-01  100018            3                0            0.0000\n",
      "4 2016-02-01  100020            3                0            0.0000\n",
      "----------------\n",
      "user_id              int64\n",
      "sku_id               int64\n",
      "time        datetime64[ns]\n",
      "model_id           float64\n",
      "type                 int64\n",
      "cate                 int64\n",
      "brand                int64\n",
      "dtype: object\n",
      "   user_id  sku_id                time  model_id  type  cate  brand\n",
      "0   266079  138778 2016-01-31 23:59:02       NaN     1     8    403\n",
      "1   266079  138778 2016-01-31 23:59:03       0.0     6     8    403\n",
      "2   200719   61226 2016-01-31 23:59:07       NaN     1     8     30\n",
      "3   200719   61226 2016-01-31 23:59:08       0.0     6     8     30\n",
      "4   263587   72348 2016-01-31 23:59:08       NaN     1     5    159\n",
      "----------------\n",
      "processing df_user...\n",
      "processing df_product...\n",
      "processing df_comment...\n",
      "processing df_action...\n",
      "################\n",
      "user_id                 int32\n",
      "age                     int32\n",
      "sex                     int32\n",
      "user_lv_cd              int32\n",
      "user_reg_tm    datetime64[ns]\n",
      "dtype: object\n",
      "   user_id  age  sex  user_lv_cd user_reg_tm\n",
      "0   200001    6   -1           5  2016-01-26\n",
      "1   200002   -1    0           1  2016-01-26\n",
      "2   200003    4    1           4  2016-01-26\n",
      "3   200004   -1   -1           1  2016-01-26\n",
      "4   200005    2    0           4  2016-01-26\n",
      "----------------\n",
      "sku_id    int32\n",
      "a1        int32\n",
      "a2        int32\n",
      "a3        int32\n",
      "cate      int32\n",
      "brand     int32\n",
      "dtype: object\n",
      "   sku_id  a1  a2  a3  cate  brand\n",
      "0      10   3   1   1     8    489\n",
      "1  100002   3   2   2     8    489\n",
      "2  100003   1  -1  -1     8     30\n",
      "3  100006   1   2   1     8    545\n",
      "4   10001  -1   1   2     8    244\n",
      "----------------\n",
      "dt                  datetime64[ns]\n",
      "sku_id                       int32\n",
      "comment_num                  int32\n",
      "has_bad_comment              int32\n",
      "bad_comment_rate           float32\n",
      "dtype: object\n",
      "          dt  sku_id  comment_num  has_bad_comment  bad_comment_rate\n",
      "0 2016-02-01    1000            3                1            0.0417\n",
      "1 2016-02-01   10000            2                0            0.0000\n",
      "2 2016-02-01  100011            4                1            0.0376\n",
      "3 2016-02-01  100018            3                0            0.0000\n",
      "4 2016-02-01  100020            3                0            0.0000\n",
      "----------------\n",
      "user_id              int32\n",
      "sku_id               int32\n",
      "time        datetime64[ns]\n",
      "model_id           float64\n",
      "type                 int32\n",
      "cate                 int32\n",
      "brand                int32\n",
      "dtype: object\n",
      "   user_id  sku_id                time  model_id  type  cate  brand\n",
      "0   266079  138778 2016-01-31 23:59:02       NaN     1     8    403\n",
      "1   266079  138778 2016-01-31 23:59:03       0.0     6     8    403\n",
      "2   200719   61226 2016-01-31 23:59:07       NaN     1     8     30\n",
      "3   200719   61226 2016-01-31 23:59:08       0.0     6     8     30\n",
      "4   263587   72348 2016-01-31 23:59:08       NaN     1     5    159\n",
      "----------------\n"
     ]
    }
   ],
   "source": [
    "def convert_type(df_user, df_product, df_comment, df_action):\n",
    "    print(df_user.dtypes)\n",
    "    print(df_user.head())\n",
    "    print(\"----------------\")\n",
    "    print(df_product.dtypes)\n",
    "    print(df_product.head())\n",
    "    print(\"----------------\")\n",
    "    print(df_comment.dtypes)\n",
    "    print(df_comment.head())\n",
    "    print(\"----------------\")\n",
    "    print(df_action.dtypes)\n",
    "    print(df_action.head())\n",
    "    print(\"----------------\")\n",
    "    \n",
    "    print(\"processing df_user...\")\n",
    "    df_user.loc[:, [\"age\", \"sex\", \"user_lv_cd\"]] = df_user.loc[:, [\"age\", \"sex\", \"user_lv_cd\"]].fillna(-1)\n",
    "    \n",
    "    df_user.loc[:, \"sex\"] = df_user.loc[:, \"sex\"].apply(lambda x: -1 if int(x) == 2 else x)\n",
    "    \n",
    "    df_user.loc[:, \"user_reg_tm\"] = df_user.loc[:, \"user_reg_tm\"].apply(lambda x : pd.to_datetime(x))\n",
    "    df_user.loc[:, [\"user_id\", \"age\", \"sex\", \"user_lv_cd\"]] \\\n",
    "        = df_user.loc[:, [\"user_id\", \"age\", \"sex\", \"user_lv_cd\"]].astype(np.int32)\n",
    "    \n",
    "    print(\"processing df_product...\")\n",
    "    df_product.loc[:, [\"a1\", \"a2\", \"a3\"]] = df_product.loc[:, [\"a1\", \"a2\", \"a3\"]].fillna(-1)\n",
    "    \n",
    "    df_product.loc[:, [\"sku_id\", \"a1\", \"a2\", \"a3\", \"cate\", \"brand\"]] \\\n",
    "        = df_product.loc[:, [\"sku_id\", \"a1\", \"a2\", \"a3\", \"cate\", \"brand\"]].astype(np.int32)\n",
    "    \n",
    "    print(\"processing df_comment...\")\n",
    "    df_comment.loc[:, [\"comment_num\", \"has_bad_comment\", \"bad_comment_rate\"]] \\\n",
    "        = df_comment.loc[:, [\"comment_num\", \"has_bad_comment\", \"bad_comment_rate\"]].fillna(0)\n",
    "    \n",
    "    df_comment.loc[:, \"dt\"] = df_comment.loc[:, \"dt\"].apply(lambda x : pd.to_datetime(x))\n",
    "    df_comment.loc[:, [\"sku_id\", \"comment_num\", \"has_bad_comment\"]] \\\n",
    "        = df_comment.loc[:, [\"sku_id\", \"comment_num\", \"has_bad_comment\"]].astype(np.int32)\n",
    "    df_comment.loc[:, \"bad_comment_rate\"] = df_comment.loc[:, \"bad_comment_rate\"].astype(np.float32)\n",
    "    \n",
    "    print(\"processing df_action...\")\n",
    "    df_action.loc[:, \"time\"] = df_action.loc[:, \"time\"] \\\n",
    "        .apply(lambda x : datetime.datetime.strptime(str(x), \"%Y-%m-%d %H:%M:%S\"))\n",
    "    df_action.loc[:, [\"user_id\", \"sku_id\", \"type\", \"cate\", \"brand\"]] \\\n",
    "        = df_action.loc[:, [\"user_id\", \"sku_id\", \"type\", \"cate\", \"brand\"]].astype(np.int32)\n",
    "    \n",
    "    print(\"################\")\n",
    "    print(df_user.dtypes)\n",
    "    print(df_user.head())\n",
    "    print(\"----------------\")\n",
    "    print(df_product.dtypes)\n",
    "    print(df_product.head())\n",
    "    print(\"----------------\")\n",
    "    print(df_comment.dtypes)\n",
    "    print(df_comment.head())\n",
    "    print(\"----------------\")\n",
    "    print(df_action.dtypes)\n",
    "    print(df_action.head())\n",
    "    print(\"----------------\")\n",
    "    \n",
    "    return df_user, df_product, df_comment, df_action\n",
    "    \n",
    "    \n",
    "df_user, df_product, df_comment, df_action = convert_type(df_user, df_product, df_comment, df_action)"
   ]
  },
  {
   "cell_type": "code",
   "execution_count": 39,
   "metadata": {},
   "outputs": [],
   "source": [
    "def save_data(df_user, df_product, df_comment, df_action):\n",
    "    if not os.path.exists(\"data.pkl\"):\n",
    "        with open(\"data.pkl\", \"wb\") as f:\n",
    "            pickle.dump((df_user, df_product, df_comment, df_action), f)\n",
    "            \n",
    "def load_data():\n",
    "    with open(\"data.pkl\", \"rb\") as f:\n",
    "        df_user, df_product, df_comment, df_action = pickle.load(f)\n",
    "    return df_user, df_product, df_comment, df_action\n",
    "\n",
    "# save_data(df_user, df_product, df_comment, df_action)\n",
    "df_user, df_product, df_comment, df_action = load_data()"
   ]
  },
  {
   "cell_type": "code",
   "execution_count": 40,
   "metadata": {},
   "outputs": [],
   "source": [
    "def get_user_reg_before_416(df_user):\n",
    "    return df_user.loc[df_user.loc[:, \"user_reg_tm\"] < pd.to_datetime(\"2016-04-16\")]\n",
    "\n",
    "df_user_reg_before_416 = get_user_reg_before_416(df_user)"
   ]
  },
  {
   "cell_type": "code",
   "execution_count": 41,
   "metadata": {},
   "outputs": [],
   "source": [
    "def del_user_in_df_user(df_user, df_user_reg_before_416):\n",
    "    df_user = df_user.loc[df_user.loc[:, \"user_id\"].isin(df_user_reg_before_416.loc[:, \"user_id\"])]\n",
    "    return df_user\n",
    "\n",
    "df_user = del_user_in_df_user(df_user, df_user_reg_before_416)"
   ]
  },
  {
   "cell_type": "code",
   "execution_count": 42,
   "metadata": {},
   "outputs": [
    {
     "name": "stdout",
     "output_type": "stream",
     "text": [
      "   sku_id  a1  a2  a3  cate  brand  comment_num  has_bad_comment  \\\n",
      "0      10   3   1   1     8    489            0                0   \n",
      "1  100002   3   2   2     8    489            0                0   \n",
      "2  100003   1  -1  -1     8     30            0                0   \n",
      "3  100006   1   2   1     8    545            0                0   \n",
      "4   10001  -1   1   2     8    244            0                0   \n",
      "\n",
      "   bad_comment_rate  \n",
      "0               0.0  \n",
      "1               0.0  \n",
      "2               0.0  \n",
      "3               0.0  \n",
      "4               0.0  \n"
     ]
    }
   ],
   "source": [
    "#获取商品评论的特征，以最近的日期为准\n",
    "def get_df_last_comment(df_comment):\n",
    "    df_comment = df_comment.loc[df_comment.loc[:, \"dt\"] < pd.to_datetime(\"2016-04-16\")]\n",
    "    df_time = df_comment.loc[:, [\"sku_id\", \"dt\"]]\n",
    "    df_last_time = df_time.groupby(\"sku_id\").max().reset_index()\n",
    "    df_last_comment = pd.merge(df_comment, df_last_time, how=\"inner\", on=[\"sku_id\", \"dt\"])\n",
    "    df_last_comment.pop(\"dt\")\n",
    "    return df_last_comment\n",
    "\n",
    "def combine_df_product_comment(df_product, df_last_comment):\n",
    "    df_sku = pd.merge(df_product, df_last_comment, how=\"left\", on=\"sku_id\").fillna(0)\n",
    "    df_sku.loc[:, [\"comment_num\", \"has_bad_comment\"]] = df_sku.loc[:, [\"comment_num\", \"has_bad_comment\"]].astype(np.int32)\n",
    "\n",
    "#     df_sku.loc[:, \"comment_num\"] = df_sku.loc[:, \"comment_num\"].apply(lambda x : int(x) if not np.isnan(x) else 0)\n",
    "#     df_sku.loc[:, \"has_bad_comment\"] = df_sku.loc[:, \"has_bad_comment\"].apply(lambda x : int(x) if not np.isnan(x) else 0)\n",
    "#     df_sku.loc[:, \"bad_comment_rate\"] = df_sku.loc[:, \"bad_comment_rate\"].apply(lambda x : 0.0 if np.isnan(x) else x)\n",
    "    return df_sku\n",
    "\n",
    "df_last_comment = get_df_last_comment(df_comment)\n",
    "df_sku = combine_df_product_comment(df_product, df_last_comment)\n",
    "print(df_sku.head())"
   ]
  },
  {
   "cell_type": "code",
   "execution_count": 43,
   "metadata": {},
   "outputs": [
    {
     "name": "stdout",
     "output_type": "stream",
     "text": [
      "105309\n",
      "29485\n",
      "29483\n",
      "    user_id  age  sex  user_lv_cd user_reg_tm\n",
      "0    200001    6   -1           5  2016-01-26\n",
      "4    200005    2    0           4  2016-01-26\n",
      "13   200014    3   -1           4  2013-04-10\n",
      "14   200015    3    1           3  2016-01-26\n",
      "16   200017    4   -1           4  2016-01-26\n"
     ]
    }
   ],
   "source": [
    "#删除所有时间段都没有购买行为的用户\n",
    "def get_df_buy_user(df_action):\n",
    "    df_buy_action = df_action.loc[df_action.loc[:, \"type\"] == 4]\n",
    "    df_buy_user = df_buy_action.loc[:, \"user_id\"].drop_duplicates()\n",
    "    return df_buy_user\n",
    "\n",
    "def del_no_buy_user(df_user, df_buy_user):\n",
    "    print(len(df_user))\n",
    "    print(len(df_buy_user))\n",
    "#     df_user = pd.merge(df_user, df_buy_user, how=\"right\", on=\"user_id\")\n",
    "    df_user = df_user.loc[df_user.loc[:, \"user_id\"].isin(df_buy_user)]\n",
    "    print(len(df_user))\n",
    "    return df_user\n",
    "    \n",
    "df_buy_user = get_df_buy_user(df_action)\n",
    "df_user = del_no_buy_user(df_user, df_buy_user)\n",
    "print(df_user.head())"
   ]
  },
  {
   "cell_type": "code",
   "execution_count": 44,
   "metadata": {},
   "outputs": [
    {
     "name": "stdout",
     "output_type": "stream",
     "text": [
      "    user_id  age  sex  user_lv_cd user_reg_tm\n",
      "0    200001    6   -1           5  2016-01-26\n",
      "4    200005    2    0           4  2016-01-26\n",
      "13   200014    3   -1           4  2013-04-10\n",
      "14   200015    3    1           3  2016-01-26\n",
      "16   200017    4   -1           4  2016-01-26\n",
      "    sku_id  a1  a2  a3  cate  brand  comment_num  has_bad_comment  \\\n",
      "16  100119   2   1   2     8    812            1                0   \n",
      "27  100174   2   2   1     8    812            2                0   \n",
      "40  100310   3   2  -1     8    214            0                0   \n",
      "45  100344   3   1   1     8    214            0                0   \n",
      "69  100462   3   1   2     8    214            3                0   \n",
      "\n",
      "    bad_comment_rate  \n",
      "16               0.0  \n",
      "27               0.0  \n",
      "40               0.0  \n",
      "45               0.0  \n",
      "69               0.0  \n",
      "    user_id  sku_id                time  model_id  type  cate  brand\n",
      "0    266079  138778 2016-01-31 23:59:02       NaN     1     8    403\n",
      "1    266079  138778 2016-01-31 23:59:03       0.0     6     8    403\n",
      "2    200719   61226 2016-01-31 23:59:07       NaN     1     8     30\n",
      "3    200719   61226 2016-01-31 23:59:08       0.0     6     8     30\n",
      "15   266079  138778 2016-01-31 23:59:40       0.0     6     8    403\n"
     ]
    }
   ],
   "source": [
    "def del_user_sku_action_not_in_each_other(df_user, df_sku, df_action):\n",
    "    df_user_intersection = pd.merge(df_user.loc[:, \"user_id\"], df_action.loc[:, \"user_id\"], how=\"inner\", on=\"user_id\")\n",
    "    df_sku_intersection = pd.merge(df_sku.loc[:, \"sku_id\"], df_action.loc[:, \"sku_id\"], how=\"inner\", on=\"sku_id\")\n",
    "    \n",
    "    df_action = df_action.loc[(df_action.loc[:, \"sku_id\"].isin(df_sku_intersection.loc[:, \"sku_id\"])) \\\n",
    "                              & (df_action.loc[:, \"user_id\"].isin(df_user_intersection.loc[:, \"user_id\"]))]\n",
    "    df_user = df_user.loc[df_user.loc[:, \"user_id\"].isin(df_action.loc[:, \"user_id\"])]\n",
    "    df_sku = df_sku.loc[df_sku.loc[:, \"sku_id\"].isin(df_action.loc[:, \"sku_id\"])]\n",
    "    return df_user, df_sku, df_action\n",
    "df_user, df_sku, df_action = del_user_sku_action_not_in_each_other(df_user, df_sku, df_action)\n",
    "print(df_user.head())\n",
    "print(df_sku.head())\n",
    "print(df_action.head())"
   ]
  },
  {
   "cell_type": "code",
   "execution_count": 45,
   "metadata": {},
   "outputs": [
    {
     "name": "stdout",
     "output_type": "stream",
     "text": [
      "Index(['user_id', 'age', 'sex', 'user_lv_cd', 'user_reg_tm'], dtype='object')\n",
      "Index(['sku_id', 'a1', 'a2', 'a3', 'cate', 'brand', 'comment_num',\n",
      "       'has_bad_comment', 'bad_comment_rate'],\n",
      "      dtype='object')\n",
      "Index(['user_id', 'sku_id', 'time', 'model_id', 'type', 'cate', 'brand'], dtype='object')\n",
      "    user_id  age  sex  user_lv_cd\n",
      "0    200001    6   -1           5\n",
      "4    200005    2    0           4\n",
      "13   200014    3   -1           4\n",
      "14   200015    3    1           3\n",
      "16   200017    4   -1           4\n",
      "    sku_id  a1  a2  a3  cate  brand  comment_num  has_bad_comment  \\\n",
      "16  100119   2   1   2     8    812            1                0   \n",
      "27  100174   2   2   1     8    812            2                0   \n",
      "40  100310   3   2  -1     8    214            0                0   \n",
      "45  100344   3   1   1     8    214            0                0   \n",
      "69  100462   3   1   2     8    214            3                0   \n",
      "\n",
      "    bad_comment_rate  \n",
      "16               0.0  \n",
      "27               0.0  \n",
      "40               0.0  \n",
      "45               0.0  \n",
      "69               0.0  \n",
      "    user_id  sku_id                time  type\n",
      "0    266079  138778 2016-01-31 23:59:02     1\n",
      "1    266079  138778 2016-01-31 23:59:03     6\n",
      "2    200719   61226 2016-01-31 23:59:07     1\n",
      "3    200719   61226 2016-01-31 23:59:08     6\n",
      "15   266079  138778 2016-01-31 23:59:40     6\n"
     ]
    }
   ],
   "source": [
    "def del_useless_columns(df_user, df_sku, df_action):\n",
    "    print(df_user.columns)\n",
    "    print(df_sku.columns)\n",
    "    print(df_action.columns)\n",
    "    \n",
    "    df_user.pop(\"user_reg_tm\")\n",
    "    df_action.pop(\"model_id\")\n",
    "    df_action.pop(\"cate\")\n",
    "    df_action.pop(\"brand\")\n",
    "    \n",
    "    return df_user, df_sku, df_action\n",
    "df_user, df_sku, df_action = del_useless_columns(df_user, df_sku, df_action)\n",
    "print(df_user.head())\n",
    "print(df_sku.head())\n",
    "print(df_action.head())"
   ]
  },
  {
   "cell_type": "code",
   "execution_count": 48,
   "metadata": {},
   "outputs": [
    {
     "name": "stdout",
     "output_type": "stream",
     "text": [
      "29430\n",
      "3403\n",
      "6589539\n"
     ]
    }
   ],
   "source": [
    "print(len(df_user))\n",
    "print(len(df_sku))\n",
    "print(len(df_action))"
   ]
  },
  {
   "cell_type": "code",
   "execution_count": 54,
   "metadata": {},
   "outputs": [],
   "source": [
    "def save_data(df_user, df_sku, df_action, filename):\n",
    "    if not os.path.exists(filename):\n",
    "        with open(filename, \"wb\") as f:\n",
    "            pickle.dump((df_user, df_sku, df_action), f)\n",
    "            \n",
    "def load_data(filename):\n",
    "    with open(filename, \"rb\") as f:\n",
    "        df_user, df_sku, df_action = pickle.load(f)\n",
    "    return df_user, df_sku, df_action\n",
    "\n",
    "# save_data(df_user, df_sku, df_action, \"clean_data_without_no_buy.pkl\")\n",
    "# df_user, df_sku, df_action = load_data()"
   ]
  },
  {
   "cell_type": "code",
   "execution_count": 53,
   "metadata": {},
   "outputs": [
    {
     "name": "stdout",
     "output_type": "stream",
     "text": [
      ".\t\t\t JData_User.csv\t\t   df_dataset.pkl\n",
      "..\t\t\t catboost_info\t\t   jdata.7z\n",
      ".ipynb_checkpoints\t clean_data.pkl\t\t   model.cb\n",
      "JData_Action_201602.csv  columns.txt\t\t   terminal.ipynb\n",
      "JData_Action_201603.csv  data.pkl\t\t   test.ipynb\n",
      "JData_Action_201604.csv  data_clean.ipynb\t   京东购买预测数据集\n",
      "JData_Comment.csv\t data_gen_feature.ipynb\n",
      "JData_Product.csv\t data_visualization.ipynb\n"
     ]
    }
   ],
   "source": [
    "!ls -a"
   ]
  },
  {
   "cell_type": "code",
   "execution_count": 29,
   "metadata": {},
   "outputs": [
    {
     "data": {
      "text/plain": [
       "user_id       int32\n",
       "age           int32\n",
       "sex           int32\n",
       "user_lv_cd    int32\n",
       "dtype: object"
      ]
     },
     "execution_count": 29,
     "metadata": {},
     "output_type": "execute_result"
    }
   ],
   "source": [
    "df_user.dtypes"
   ]
  },
  {
   "cell_type": "code",
   "execution_count": 30,
   "metadata": {},
   "outputs": [
    {
     "data": {
      "text/plain": [
       "sku_id                int32\n",
       "a1                    int32\n",
       "a2                    int32\n",
       "a3                    int32\n",
       "cate                  int32\n",
       "brand                 int32\n",
       "comment_num           int32\n",
       "has_bad_comment       int32\n",
       "bad_comment_rate    float32\n",
       "dtype: object"
      ]
     },
     "execution_count": 30,
     "metadata": {},
     "output_type": "execute_result"
    }
   ],
   "source": [
    "df_sku.dtypes"
   ]
  },
  {
   "cell_type": "code",
   "execution_count": 31,
   "metadata": {},
   "outputs": [
    {
     "data": {
      "text/html": [
       "<div>\n",
       "<style scoped>\n",
       "    .dataframe tbody tr th:only-of-type {\n",
       "        vertical-align: middle;\n",
       "    }\n",
       "\n",
       "    .dataframe tbody tr th {\n",
       "        vertical-align: top;\n",
       "    }\n",
       "\n",
       "    .dataframe thead th {\n",
       "        text-align: right;\n",
       "    }\n",
       "</style>\n",
       "<table border=\"1\" class=\"dataframe\">\n",
       "  <thead>\n",
       "    <tr style=\"text-align: right;\">\n",
       "      <th></th>\n",
       "      <th>dt</th>\n",
       "      <th>sku_id</th>\n",
       "      <th>comment_num</th>\n",
       "      <th>has_bad_comment</th>\n",
       "      <th>bad_comment_rate</th>\n",
       "    </tr>\n",
       "  </thead>\n",
       "  <tbody>\n",
       "    <tr>\n",
       "      <th>0</th>\n",
       "      <td>2016-02-01</td>\n",
       "      <td>1000</td>\n",
       "      <td>3</td>\n",
       "      <td>1</td>\n",
       "      <td>0.0417</td>\n",
       "    </tr>\n",
       "    <tr>\n",
       "      <th>1</th>\n",
       "      <td>2016-02-01</td>\n",
       "      <td>10000</td>\n",
       "      <td>2</td>\n",
       "      <td>0</td>\n",
       "      <td>0.0000</td>\n",
       "    </tr>\n",
       "    <tr>\n",
       "      <th>2</th>\n",
       "      <td>2016-02-01</td>\n",
       "      <td>100011</td>\n",
       "      <td>4</td>\n",
       "      <td>1</td>\n",
       "      <td>0.0376</td>\n",
       "    </tr>\n",
       "    <tr>\n",
       "      <th>3</th>\n",
       "      <td>2016-02-01</td>\n",
       "      <td>100018</td>\n",
       "      <td>3</td>\n",
       "      <td>0</td>\n",
       "      <td>0.0000</td>\n",
       "    </tr>\n",
       "    <tr>\n",
       "      <th>4</th>\n",
       "      <td>2016-02-01</td>\n",
       "      <td>100020</td>\n",
       "      <td>3</td>\n",
       "      <td>0</td>\n",
       "      <td>0.0000</td>\n",
       "    </tr>\n",
       "  </tbody>\n",
       "</table>\n",
       "</div>"
      ],
      "text/plain": [
       "          dt  sku_id  comment_num  has_bad_comment  bad_comment_rate\n",
       "0 2016-02-01    1000            3                1            0.0417\n",
       "1 2016-02-01   10000            2                0            0.0000\n",
       "2 2016-02-01  100011            4                1            0.0376\n",
       "3 2016-02-01  100018            3                0            0.0000\n",
       "4 2016-02-01  100020            3                0            0.0000"
      ]
     },
     "execution_count": 31,
     "metadata": {},
     "output_type": "execute_result"
    }
   ],
   "source": [
    "df_comment.head()"
   ]
  },
  {
   "cell_type": "code",
   "execution_count": null,
   "metadata": {},
   "outputs": [],
   "source": []
  }
 ],
 "metadata": {
  "kernelspec": {
   "display_name": "Python 3",
   "language": "python",
   "name": "python3"
  },
  "language_info": {
   "codemirror_mode": {
    "name": "ipython",
    "version": 3
   },
   "file_extension": ".py",
   "mimetype": "text/x-python",
   "name": "python",
   "nbconvert_exporter": "python",
   "pygments_lexer": "ipython3",
   "version": "3.5.2"
  }
 },
 "nbformat": 4,
 "nbformat_minor": 2
}
